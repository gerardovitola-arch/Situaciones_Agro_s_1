{
  "nbformat": 4,
  "nbformat_minor": 0,
  "metadata": {
    "colab": {
      "provenance": [],
      "authorship_tag": "ABX9TyOiGyM1hTooaD1fF7TueJr1",
      "include_colab_link": true
    },
    "kernelspec": {
      "name": "python3",
      "display_name": "Python 3"
    },
    "language_info": {
      "name": "python"
    }
  },
  "cells": [
    {
      "cell_type": "markdown",
      "metadata": {
        "id": "view-in-github",
        "colab_type": "text"
      },
      "source": [
        "<a href=\"https://colab.research.google.com/github/gerardovitola-arch/Situaciones_Agro_s_1/blob/main/Situaciones_Agro_s_1.ipynb\" target=\"_parent\"><img src=\"https://colab.research.google.com/assets/colab-badge.svg\" alt=\"Open In Colab\"/></a>"
      ]
    },
    {
      "cell_type": "markdown",
      "source": [
        "# situacion de ingenieria agricola\n",
        "Un agricultor necesita saber cuántos kilogramos\n",
        "de semilla de maíz debe comprar para sembrar un lote rectangular. Conoce la densidad de siembra\n",
        "recomendada (kg por hectárea) y las dimensiones del lote (largo y ancho en metros).\n"
      ],
      "metadata": {
        "id": "S9mtiNy4qXZD"
      }
    },
    {
      "cell_type": "code",
      "source": [
        "# 1. saludar al usuario y explicar que hace el programa\n",
        "print(\"Bienvenido al programa de calculo de densidad de siembra.\")\n",
        "\n",
        "# 2. Pedir al usuario que ingrese el largo del lote en metros (input sin covertir).\n",
        "largo = input(\"Ingrese el largo del lote en metros: \")\n",
        "\n",
        "# 3. Pedir el ancho del lote en metros (input NO USES FLOAT).\n",
        "ancho = input(\"Ingrese el ancho del lote en metros: \")\n",
        "\n",
        "# 4. Pedir al usuario que ingrese la densidad recomendada de siembra en kilogramos por hectárea.\n",
        "densidad = input(\"Ingrese la densidad recomendada de siembra en kilogramos por hectárea: \")\n",
        "\n",
        "# 5. Convertir las entradas de texto a números decimales (float).\n",
        "largo = float(largo)\n",
        "ancho = float(ancho)\n",
        "densidad = float(densidad)\n",
        "\n",
        "# 6. Calcular el área en metros cuadrados (largo * ancho).\n",
        "area = largo * ancho\n",
        "\n",
        "# 7. Calcular la densidad recomendada de siembra en kilogramos por hectárea (densidad * área).\n",
        "densidad_recomendada = densidad * area\n",
        "\n",
        "# 8. Mostrar el resultado al usuario.\n",
        "print(f\"la densidad de siembra recomendada por un lote de {largo} metros de largo y {ancho} metros de ancho\")"
      ],
      "metadata": {
        "colab": {
          "base_uri": "https://localhost:8080/"
        },
        "id": "mzGi5M38qpRO",
        "outputId": "128972ac-4d56-4a82-e0c9-c126d9838c9b"
      },
      "execution_count": 1,
      "outputs": [
        {
          "name": "stdout",
          "output_type": "stream",
          "text": [
            "Bienvenido al programa de calculo de densidad de siembra.\n",
            "Ingrese el largo del lote en metros: 25\n"
          ]
        }
      ]
    },
    {
      "cell_type": "markdown",
      "metadata": {
        "id": "c71891ce"
      },
      "source": [
        "Este código Python está diseñado para calcular la cantidad de semilla de maíz necesaria para sembrar un lote rectangular, basándose en la densidad de siembra recomendada y las dimensiones del lote.\n",
        "\n",
        "Aquí te explico cada parte:\n",
        "\n",
        "1.  `print(\"Bienvenido al programa de calculo de densidad de siembra.\")`: Muestra un mensaje de bienvenida al usuario, indicando el propósito del programa.\n",
        "\n",
        "2.  `largo = input(\"Ingrese el largo del lote en metros: \")`: Pide al usuario que ingrese el largo del lote en metros y guarda la entrada (como texto) en la variable `largo`.\n",
        "\n",
        "3.  `ancho = input(\"Ingrese el ancho del lote en metros: \")`: Similar al paso anterior, pide el ancho del lote en metros y lo guarda (como texto) en la variable `ancho`.\n",
        "\n",
        "4.  `densidad = input(\"Ingrese la densidad recomendada de siembra en kilogramos por hectárea: \")`: Solicita al usuario la densidad de siembra recomendada en kilogramos por hectárea y guarda la entrada (como texto) en la variable `densidad`.\n",
        "\n",
        "5.  `largo = float(largo)`\n",
        "    `ancho = float(ancho)`\n",
        "    `densidad = float(densidad)`: Estas líneas convierten las entradas del usuario (que inicialmente son texto) a números decimales (tipo `float`) para poder realizar cálculos matemáticos con ellas.\n",
        "\n",
        "6.  `area = largo * ancho`: Calcula el área del lote en metros cuadrados multiplicando el largo por el ancho.\n",
        "\n",
        "7.  `densidad_recomendada = densidad * area`: **¡Ojo aquí!** Esta línea parece tener un error lógico. Está multiplicando la densidad en kg/hectárea por el área en metros cuadrados. Para obtener la cantidad total de semilla necesaria, primero deberías convertir el área de metros cuadrados a hectáreas y luego multiplicarla por la densidad.\n",
        "\n",
        "    *   1 hectárea = 10,000 metros cuadrados\n",
        "    *   La fórmula correcta para el área en hectáreas sería `area_hectareas = area / 10000`\n",
        "    *   Luego, la cantidad de semilla sería `cantidad_semilla = densidad * area_hectareas`\n",
        "\n",
        "8.  `print(f\"la densidad de siembra recomendada por un lote de {largo} metros de largo y {ancho} metros de ancho\")`: Muestra un mensaje al usuario utilizando una f-string para incluir los valores del largo y ancho del lote. **Sin embargo, este `print` no muestra el resultado del cálculo de la cantidad de semilla.** Debería mostrar la variable que contiene la cantidad de semilla calculada.\n",
        "\n",
        "En resumen, el código solicita las dimensiones del lote y la densidad de siembra, calcula el área, pero hay un error en el cálculo final de la cantidad de semilla y el mensaje de salida no muestra el resultado esperado."
      ]
    }
  ]
}